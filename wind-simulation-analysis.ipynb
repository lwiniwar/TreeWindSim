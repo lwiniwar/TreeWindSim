{
 "cells": [
  {
   "cell_type": "markdown",
   "id": "31a084e3-9139-46c4-aa4b-bf71397ae087",
   "metadata": {},
   "source": [
    "# Analysis of wind simulation and different scan angles for laser scanning of vegetation\n"
   ]
  },
  {
   "cell_type": "code",
   "execution_count": 1,
   "id": "e85a29eb-fe09-48ed-9f8d-8bd481d62e01",
   "metadata": {},
   "outputs": [],
   "source": [
    "from pathlib import Path\n",
    "import numpy as np\n",
    "import pandas as pd\n",
    "from collections import defaultdict"
   ]
  },
  {
   "cell_type": "code",
   "execution_count": 14,
   "id": "1fa929cc-c65e-4a38-91be-822ef9eb6c1b",
   "metadata": {},
   "outputs": [],
   "source": [
    "meanH = {\n",
    "    '000': defaultdict(list),\n",
    "    '001': defaultdict(list),\n",
    "    '002': defaultdict(list),\n",
    "    '003': defaultdict(list),\n",
    "    '004': defaultdict(list),\n",
    "}\n",
    "meanH_fl = defaultdict(list)\n",
    "pts_windspeed = defaultdict(list)\n",
    "for folder in Path(r'D:\\lwiniwar\\data\\uncertaintree\\thegrove\\output').glob('*'):\n",
    "    if not folder.is_dir():\n",
    "        continue\n",
    "    run = next(folder.iterdir())\n",
    "    files = run.glob(\"*.xyz\")\n",
    "    for f in files:\n",
    "        points = pd.read_csv(f, sep=' ', header=None, names='X Y Z intensity echoWidth returnNumber numberOfReturns fullwaveIndex hitObjectId class gpsTime'.split(' '))\n",
    "        ws = f.parent.parent.name.replace('mapleFlight', '').split('ID')[0]\n",
    "        treepoints = points[points['hitObjectId'] == 1]\n",
    "        meanH[f.name[3:6]][ws].append(np.mean(treepoints['Z']))\n",
    "        pts_windspeed[ws].append(treepoints['Z'])\n",
    "        if 'ID10' in str(f) or 'ID0' in str(f):\n",
    "            meanH_fl[ws].append(np.mean(treepoints['Z']))\n",
    "            \n",
    "meanH_ws = {key: np.mean(np.concatenate(pts)) for key, pts in pts_windspeed.items()}\n"
   ]
  },
  {
   "cell_type": "code",
   "execution_count": 25,
   "id": "97edba35-aeba-4072-8b25-990f1bcec1ae",
   "metadata": {},
   "outputs": [
    {
     "name": "stdout",
     "output_type": "stream",
     "text": [
      "Variance caused by wind\n",
      "Strip 000, WS0   : RMSD=0.0046, SIGM=0.0000\n",
      "Strip 000, WS0.2 : RMSD=0.0653, SIGM=0.0651\n",
      "Strip 000, WS0.5 : RMSD=0.0823, SIGM=0.0591\n",
      "Strip 000, WS0.6 : RMSD=0.0316, SIGM=0.0142\n",
      "Strip 000, WS0.7 : RMSD=0.2606, SIGM=0.2230\n",
      "Strip 000, WS0.8 : RMSD=0.3960, SIGM=0.2608\n",
      "Strip 000, WS0.9 : RMSD=0.1632, SIGM=0.0512\n",
      "Strip 000, WS1   : RMSD=0.7019, SIGM=0.4665\n",
      "Strip 002, WS0   : RMSD=0.0052, SIGM=0.0000\n",
      "Strip 002, WS0.2 : RMSD=0.0687, SIGM=0.0683\n",
      "Strip 002, WS0.5 : RMSD=0.0709, SIGM=0.0533\n",
      "Strip 002, WS0.6 : RMSD=0.0339, SIGM=0.0267\n",
      "Strip 002, WS0.7 : RMSD=0.2526, SIGM=0.2158\n",
      "Strip 002, WS0.8 : RMSD=0.3632, SIGM=0.2409\n",
      "Strip 002, WS0.9 : RMSD=0.1565, SIGM=0.0445\n",
      "Strip 002, WS1   : RMSD=0.7343, SIGM=0.4886\n",
      "Strip 004, WS0   : RMSD=0.0098, SIGM=0.0000\n",
      "Strip 004, WS0.2 : RMSD=0.0669, SIGM=0.0664\n",
      "Strip 004, WS0.5 : RMSD=0.0614, SIGM=0.0391\n",
      "Strip 004, WS0.6 : RMSD=0.0264, SIGM=0.0184\n",
      "Strip 004, WS0.7 : RMSD=0.2462, SIGM=0.2052\n",
      "Strip 004, WS0.8 : RMSD=0.3969, SIGM=0.2679\n",
      "Strip 004, WS0.9 : RMSD=0.1472, SIGM=0.0314\n",
      "Strip 004, WS1   : RMSD=0.7091, SIGM=0.4718\n",
      "Difference caused by wind - merged\n",
      "WS0   : 0.0000\n",
      "WS0.2 : -0.0101\n",
      "WS0.5 : -0.0365\n",
      "WS0.6 : -0.0249\n",
      "WS0.7 : -0.0567\n",
      "WS0.8 : -0.1346\n",
      "WS0.9 : -0.1471\n",
      "WS1   : -0.2413\n",
      "Variance caused by scan angle\n",
      "WS0   : RMSD=0.0069, SIGM=0.0069\n",
      "WS0.2 : RMSD=0.0699, SIGM=0.0113\n",
      "WS0.5 : RMSD=0.0406, SIGM=0.0028\n",
      "WS0.6 : RMSD=0.0437, SIGM=0.0021\n",
      "WS0.7 : RMSD=0.0595, SIGM=0.0021\n",
      "WS0.8 : RMSD=0.6421, SIGM=0.0357\n",
      "WS0.9 : RMSD=0.1971, SIGM=0.0204\n",
      "WS1   : RMSD=0.1394, SIGM=0.0029\n"
     ]
    }
   ],
   "source": [
    "print(\"Variance caused by wind\")\n",
    "for key, val in sorted(meanH.items(), key=lambda x: x[0]):\n",
    "    for key2, val2 in sorted(val.items(), key=lambda x: x[0]):\n",
    "        print(f\"Strip {key:3s}, {key2:6s}: RMSD={np.sqrt(np.mean(np.square(val2-meanH_ws['WS0']))):.4f}, SIGM={np.std(val2):.4f}\")\n",
    "\n",
    "\n",
    "print(\"Difference caused by wind - merged\")\n",
    "for key, val in sorted(meanH_ws.items(), key=lambda x: x[0]):\n",
    "    print(f\"{key:6s}: {val-meanH_ws['WS0']:.4f}\")\n",
    "\n",
    "print(\"Variance caused by scan angle\")\n",
    "for key, val in sorted(meanH_fl.items(), key=lambda x: x[0]):\n",
    "    print(f\"{key:6s}: RMSD={np.sqrt(np.mean(np.square(val-meanH_ws['WS0']))):.4f}, SIGM={np.std(val):.4f}\")"
   ]
  },
  {
   "cell_type": "code",
   "execution_count": null,
   "id": "128400aa-9152-4d4f-8d1b-fa56bfb786f9",
   "metadata": {},
   "outputs": [],
   "source": []
  }
 ],
 "metadata": {
  "kernelspec": {
   "display_name": "Python 3 (ipykernel)",
   "language": "python",
   "name": "python3"
  },
  "language_info": {
   "codemirror_mode": {
    "name": "ipython",
    "version": 3
   },
   "file_extension": ".py",
   "mimetype": "text/x-python",
   "name": "python",
   "nbconvert_exporter": "python",
   "pygments_lexer": "ipython3",
   "version": "3.11.3"
  }
 },
 "nbformat": 4,
 "nbformat_minor": 5
}
